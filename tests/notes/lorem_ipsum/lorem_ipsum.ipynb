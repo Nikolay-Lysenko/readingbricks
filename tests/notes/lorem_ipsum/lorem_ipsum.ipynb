{
 "cells": [
  {
   "cell_type": "markdown",
   "id": "e0ee12b6",
   "metadata": {
    "tags": [
     "lorem_ipsum"
    ]
   },
   "source": [
    "## Lorem Ipsum\n",
    "\n",
    "Lorem ipsum dolor sit amet, consectetur adipiscing elit. Nulla ut massa sit amet velit congue suscipit non vitae nunc. Duis mattis at nunc non pulvinar."
   ]
  }
 ],
 "metadata": {
  "celltoolbar": "Tags",
  "kernelspec": {
   "display_name": "Python 3 (ipykernel)",
   "language": "python",
   "name": "python3"
  },
  "language_info": {
   "codemirror_mode": {
    "name": "ipython",
    "version": 3
   },
   "file_extension": ".py",
   "mimetype": "text/x-python",
   "name": "python",
   "nbconvert_exporter": "python",
   "pygments_lexer": "ipython3",
   "version": "3.10.12"
  }
 },
 "nbformat": 4,
 "nbformat_minor": 5
}
