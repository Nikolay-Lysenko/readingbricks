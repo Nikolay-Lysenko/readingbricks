{
 "cells": [
  {
   "cell_type": "markdown",
   "metadata": {
    "tags": [
     "letters"
    ]
   },
   "source": [
    "## A\n",
    "\n",
    "A"
   ]
  },
  {
   "cell_type": "markdown",
   "metadata": {
    "tags": [
     "letters"
    ]
   },
   "source": [
    "## B\n",
    "\n",
    "B"
   ]
  },
  {
   "cell_type": "markdown",
   "metadata": {
    "tags": [
     "letters",
     "list"
    ]
   },
   "source": [
    "## C\n",
    "\n",
    "C:\n",
    "* c\n",
    "* _c_\n",
    "* $c$\n",
    "\n",
    "[link](__home_url__/notes/B)"
   ]
  },
  {
   "cell_type": "markdown",
   "metadata": {
    "tags": [
     "letters"
    ]
   },
   "source": [
    "## D\n",
    "\n",
    "D"
   ]
  }
 ],
 "metadata": {
  "celltoolbar": "Tags",
  "kernelspec": {
   "display_name": "Python 3",
   "language": "python",
   "name": "python3"
  },
  "language_info": {
   "codemirror_mode": {
    "name": "ipython",
    "version": 3
   },
   "file_extension": ".py",
   "mimetype": "text/x-python",
   "name": "python",
   "nbconvert_exporter": "python",
   "pygments_lexer": "ipython3",
   "version": "3.6.2"
  }
 },
 "nbformat": 4,
 "nbformat_minor": 2
}
